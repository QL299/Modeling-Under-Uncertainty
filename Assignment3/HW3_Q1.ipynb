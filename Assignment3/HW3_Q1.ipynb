{
 "cells": [
  {
   "cell_type": "markdown",
   "metadata": {},
   "source": [
    "# Q1"
   ]
  },
  {
   "cell_type": "code",
   "execution_count": 1,
   "metadata": {},
   "outputs": [],
   "source": [
    "import numpy as np"
   ]
  },
  {
   "cell_type": "code",
   "execution_count": 23,
   "metadata": {},
   "outputs": [],
   "source": [
    "mk = np.array([[0.4,0.38,0.22],[0.12,0.7,0.18],[0.2,0.5,0.3]])"
   ]
  },
  {
   "cell_type": "code",
   "execution_count": 27,
   "metadata": {},
   "outputs": [],
   "source": [
    "def mk_sim(mk,iteration = 100):\n",
    "    iteration = 100\n",
    "    results = []\n",
    "    x_i = 0 #suppose state 1 is 0th row\n",
    "    i = 0\n",
    "    results.append(1)\n",
    "    while(i < iteration):\n",
    "        x_i = np.random.choice([0,1,2],p = mk[x_i])\n",
    "        results.append(x_i+1)\n",
    "        i += 1\n",
    "    return results"
   ]
  },
  {
   "cell_type": "markdown",
   "metadata": {},
   "source": [
    "(a)"
   ]
  },
  {
   "cell_type": "code",
   "execution_count": 28,
   "metadata": {},
   "outputs": [
    {
     "data": {
      "image/png": "[encoded data removed]",
      "text/plain": [
       "<Figure size 432x288 with 1 Axes>"
      ]
     },
     "metadata": {
      "needs_background": "light"
     },
     "output_type": "display_data"
    }
   ],
   "source": [
    "import matplotlib.pyplot as plt\n",
    "result = mk_sim(mk)\n",
    "plt.scatter(np.arange(101),result,color='purple', marker='o')\n",
    "plt.show()"
   ]
  },
  {
   "cell_type": "code",
   "execution_count": 29,
   "metadata": {},
   "outputs": [
    {
     "name": "stdout",
     "output_type": "stream",
     "text": [
      "[1, 2, 2, 2, 3, 2, 2, 2, 2, 3, 2, 2, 2, 2, 2, 1, 3, 1, 1, 2, 2, 2, 3, 3, 1, 1, 2, 2, 2, 2, 1, 2, 2, 2, 2, 2, 2, 3, 3, 1, 2, 2, 2, 1, 3, 2, 3, 3, 3, 3, 3, 2, 2, 2, 2, 1, 1, 2, 3, 3, 2, 2, 2, 2, 1, 2, 2, 2, 2, 2, 2, 2, 2, 2, 2, 1, 2, 2, 2, 2, 1, 1, 1, 2, 3, 1, 1, 3, 2, 2, 2, 2, 2, 2, 3, 2, 2, 3, 3, 2, 1]\n"
     ]
    }
   ],
   "source": [
    "results = mk_sim(mk,1000)\n",
    "print(results)"
   ]
  },
  {
   "cell_type": "markdown",
   "metadata": {},
   "source": [
    "(b)"
   ]
  },
  {
   "cell_type": "code",
   "execution_count": 30,
   "metadata": {},
   "outputs": [
    {
     "data": {
      "text/plain": [
       "1.9801980198019802"
      ]
     },
     "execution_count": 30,
     "metadata": {},
     "output_type": "execute_result"
    }
   ],
   "source": [
    "def result_1(x):\n",
    "    return sum(x)/len(x)\n",
    "result_1(result)"
   ]
  },
  {
   "cell_type": "code",
   "execution_count": 31,
   "metadata": {},
   "outputs": [
    {
     "data": {
      "text/plain": [
       "45.4098699631307"
      ]
     },
     "execution_count": 31,
     "metadata": {},
     "output_type": "execute_result"
    }
   ],
   "source": [
    "def result_2(x):\n",
    "    beta = 0.9\n",
    "    su = 0.0\n",
    "    for i in range(len(x)):\n",
    "        su += (beta**i)*x[i]**2\n",
    "    return su\n",
    "result_2(result)"
   ]
  },
  {
   "cell_type": "markdown",
   "metadata": {},
   "source": [
    "(c)"
   ]
  },
  {
   "cell_type": "code",
   "execution_count": 32,
   "metadata": {},
   "outputs": [
    {
     "name": "stdout",
     "output_type": "stream",
     "text": [
      "2.0098490099009902\n",
      "40.84200902122871\n"
     ]
    }
   ],
   "source": [
    "Exp1 = []\n",
    "Exp2 = []\n",
    "for i in range(4000):\n",
    "    re = mk_sim(mk,1000)\n",
    "    Exp1.append(result_1(re))\n",
    "    Exp2.append(result_2(re))\n",
    "print(np.mean(np.array(Exp1)))\n",
    "print(np.mean(np.array(Exp2)))"
   ]
  },
  {
   "cell_type": "markdown",
   "metadata": {},
   "source": [
    "(d)"
   ]
  },
  {
   "cell_type": "code",
   "execution_count": 35,
   "metadata": {},
   "outputs": [
    {
     "name": "stdout",
     "output_type": "stream",
     "text": [
      "40.778184356869474\n"
     ]
    }
   ],
   "source": [
    "R = np.linalg.inv(np.identity(3) - 0.9*mk) @ np.array([1,2,3])**2\n",
    "print(R[0])"
   ]
  },
  {
   "cell_type": "markdown",
   "metadata": {},
   "source": [
    "The result is very similar to the similation result."
   ]
  },
  {
   "cell_type": "code",
   "execution_count": null,
   "metadata": {},
   "outputs": [],
   "source": []
  }
 ],
 "metadata": {
  "kernelspec": {
   "display_name": "Python 3",
   "language": "python",
   "name": "python3"
  },
  "language_info": {
   "codemirror_mode": {
    "name": "ipython",
    "version": 3
   },
   "file_extension": ".py",
   "mimetype": "text/x-python",
   "name": "python",
   "nbconvert_exporter": "python",
   "pygments_lexer": "ipython3",
   "version": "3.7.3"
  }
 },
 "nbformat": 4,
 "nbformat_minor": 2
}
