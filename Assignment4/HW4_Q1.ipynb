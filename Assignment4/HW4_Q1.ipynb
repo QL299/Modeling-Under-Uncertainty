{
 "cells": [
  {
   "cell_type": "code",
   "execution_count": 29,
   "metadata": {},
   "outputs": [],
   "source": [
    "import numpy as np\n",
    "import pandas as pd\n",
    "import matplotlib.pyplot as plt"
   ]
  },
  {
   "cell_type": "code",
   "execution_count": 37,
   "metadata": {},
   "outputs": [],
   "source": [
    "markov_chain = np.array([[0.0,0.6,0.4],[0.3,0.0,0.7],[0.85,0.15,0.0]])\n",
    "beta = np.array([1,1/2,1/3])"
   ]
  },
  {
   "cell_type": "markdown",
   "metadata": {},
   "source": [
    "(a) Simulate and plot a single realization of X(t) between t = 0 and t = 1000 . (Notice this is a\n",
    "continuous time chain, it will move not necessarily on integer time epochs. )"
   ]
  },
  {
   "cell_type": "code",
   "execution_count": 41,
   "metadata": {},
   "outputs": [
    {
     "data": {
      "text/plain": [
       "<matplotlib.collections.PathCollection at 0x11689d5c0>"
      ]
     },
     "execution_count": 41,
     "metadata": {},
     "output_type": "execute_result"
    },
    {
     "data": {
      "image/png": "[encoded data removed]",
      "text/plain": [
       "<Figure size 432x288 with 1 Axes>"
      ]
     },
     "metadata": {
      "needs_background": "light"
     },
     "output_type": "display_data"
    }
   ],
   "source": [
    "def markov_chain_simulation(markov_chain, beta, T = 1000):\n",
    "    results = []\n",
    "    time = []\n",
    "    length = []\n",
    "    xi = 0\n",
    "    t = np.random.exponential(beta[xi])\n",
    "    results.append(1)\n",
    "    time.append(t)\n",
    "    length.append(t)\n",
    "    \n",
    "    while(t <= T):\n",
    "        xi = np.random.choice([0,1,2], p = markov_chain[xi])\n",
    "        l = np.random.exponential(beta[xi])\n",
    "        t += l\n",
    "        time.append(t)\n",
    "        length.append(l)\n",
    "        results.append(xi + 1)\n",
    "        \n",
    "    return time, results, length\n",
    "\n",
    "X,Y,I = markov_chain_simulation(markov_chain, beta)\n",
    "plt.scatter(X,Y, linewidth = 0.5)"
   ]
  },
  {
   "cell_type": "markdown",
   "metadata": {},
   "source": [
    "(b)Compute the stationary distribution of the CTMC and, from it, the long-run average expected\n",
    "reward. How does this number compare the number you obtained from the simulation."
   ]
  },
  {
   "cell_type": "code",
   "execution_count": 42,
   "metadata": {},
   "outputs": [
    {
     "name": "stdout",
     "output_type": "stream",
     "text": [
      "[[0.   0.6  0.4 ]\n",
      " [0.3  0.   0.7 ]\n",
      " [0.85 0.15 0.  ]]\n"
     ]
    }
   ],
   "source": [
    "print(markov_chain)"
   ]
  },
  {
   "cell_type": "code",
   "execution_count": 43,
   "metadata": {},
   "outputs": [
    {
     "name": "stdout",
     "output_type": "stream",
     "text": [
      "[[0.   0.6  0.4 ]\n",
      " [0.6  0.   1.4 ]\n",
      " [2.55 0.45 0.  ]]\n"
     ]
    }
   ],
   "source": [
    "beta2 = np.array([1,2,3])\n",
    "Q = (markov_chain.T * beta2).T\n",
    "print(Q)"
   ]
  },
  {
   "cell_type": "code",
   "execution_count": 44,
   "metadata": {},
   "outputs": [
    {
     "name": "stdout",
     "output_type": "stream",
     "text": [
      "[[-1.    0.6   0.4 ]\n",
      " [ 0.6  -2.    1.4 ]\n",
      " [ 2.55  0.45 -3.  ]]\n"
     ]
    }
   ],
   "source": [
    "Q[0][0] = -1\n",
    "Q[1][1] =-2\n",
    "Q[2][2] = -3\n",
    "print(Q)"
   ]
  },
  {
   "cell_type": "code",
   "execution_count": 46,
   "metadata": {},
   "outputs": [
    {
     "name": "stdout",
     "output_type": "stream",
     "text": [
      "3.1201334816462736\n"
     ]
    }
   ],
   "source": [
    "s = beta2 **2@[537/899, 198/899, 164/899]\n",
    "print(s)"
   ]
  },
  {
   "cell_type": "code",
   "execution_count": 52,
   "metadata": {},
   "outputs": [
    {
     "data": {
      "text/plain": [
       "3.0594543292192875"
      ]
     },
     "execution_count": 52,
     "metadata": {},
     "output_type": "execute_result"
    }
   ],
   "source": [
    "i = np.array(I)\n",
    "y = np.array(Y)\n",
    "sum((y**2)*i)/1000"
   ]
  },
  {
   "cell_type": "markdown",
   "metadata": {},
   "source": [
    "There is some difference but they are almost the same. They are close."
   ]
  },
  {
   "cell_type": "code",
   "execution_count": null,
   "metadata": {},
   "outputs": [],
   "source": []
  }
 ],
 "metadata": {
  "kernelspec": {
   "display_name": "Python 3",
   "language": "python",
   "name": "python3"
  },
  "language_info": {
   "codemirror_mode": {
    "name": "ipython",
    "version": 3
   },
   "file_extension": ".py",
   "mimetype": "text/x-python",
   "name": "python",
   "nbconvert_exporter": "python",
   "pygments_lexer": "ipython3",
   "version": "3.7.3"
  }
 },
 "nbformat": 4,
 "nbformat_minor": 2
}
