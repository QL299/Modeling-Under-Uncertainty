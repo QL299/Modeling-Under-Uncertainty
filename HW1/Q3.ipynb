{
 "cells": [
  {
   "cell_type": "code",
   "execution_count": 1,
   "metadata": {},
   "outputs": [],
   "source": [
    "import numpy as np\n",
    "import matplotlib.pyplot as plt"
   ]
  },
  {
   "cell_type": "markdown",
   "metadata": {},
   "source": [
    "(a) Write a recursion of C(N, m)"
   ]
  },
  {
   "cell_type": "code",
   "execution_count": 2,
   "metadata": {},
   "outputs": [],
   "source": [
    "def count_ways (S, m, n):\n",
    "    if n == 0:\n",
    "        return 1\n",
    "    if n < 0:\n",
    "        return 0\n",
    "    if m <= 0 and n >= 1:\n",
    "        return 0\n",
    "    return count_ways (S, m - 1, n) + count_ways(S, m, n-S[m-1])"
   ]
  },
  {
   "cell_type": "markdown",
   "metadata": {},
   "source": [
    "(b) With S1 = 1, S2 = 5, S3 = 10 and S4 = 25, how many ways are there to change N = 213 cents?"
   ]
  },
  {
   "cell_type": "code",
   "execution_count": 6,
   "metadata": {},
   "outputs": [
    {
     "name": "stdout",
     "output_type": "stream",
     "text": [
      "1670\n"
     ]
    }
   ],
   "source": [
    "print (count_ways ([ 1, 5, 10, 25 ], 4, 213 ))\n",
    "S1234 = count_ways ([ 1, 5, 10, 25 ], 4, 213 )"
   ]
  },
  {
   "cell_type": "markdown",
   "metadata": {},
   "source": [
    "(c) What fraction of these uses only 1, 5 and 10 cents denominations?"
   ]
  },
  {
   "cell_type": "code",
   "execution_count": 7,
   "metadata": {},
   "outputs": [
    {
     "name": "stdout",
     "output_type": "stream",
     "text": [
      "484\n"
     ]
    }
   ],
   "source": [
    "print (count_ways([1, 5, 10], 3, 213))\n",
    "S123 = count_ways([ 1, 5, 10 ], 3, 213)"
   ]
  },
  {
   "cell_type": "code",
   "execution_count": 8,
   "metadata": {},
   "outputs": [
    {
     "name": "stdout",
     "output_type": "stream",
     "text": [
      "0.2898203592814371\n"
     ]
    }
   ],
   "source": [
    "print (S123/S1234)"
   ]
  },
  {
   "cell_type": "markdown",
   "metadata": {},
   "source": [
    "(d) Repeat the same for multiple values of N and plot the results corresponding to the previous two\n",
    "questions (i.e., number of ways to change N using S1 = 1, S2 = 5, S3 = 10, S4 = 25, and fraction of\n",
    "the total using only 1-, 5- and 10-cent coins) as a function of N ranging from 0 to 400."
   ]
  },
  {
   "cell_type": "code",
   "execution_count": 17,
   "metadata": {},
   "outputs": [
    {
     "data": {
      "image/png": "[encoded data removed]",
      "text/plain": [
       "<Figure size 432x288 with 1 Axes>"
      ]
     },
     "metadata": {
      "needs_background": "light"
     },
     "output_type": "display_data"
    }
   ],
   "source": [
    "four_count = []\n",
    "for n in np.arange (0, 401):\n",
    "    four_count.append(count_ways([1, 5, 10 , 25], 4, n))\n",
    "    \n",
    "plt.scatter(np.arange (0, 401), ways, s = 2)\n",
    "plt.show()"
   ]
  },
  {
   "cell_type": "code",
   "execution_count": 18,
   "metadata": {},
   "outputs": [
    {
     "data": {
      "image/png": "[encoded data removed]",
      "text/plain": [
       "<Figure size 432x288 with 1 Axes>"
      ]
     },
     "metadata": {
      "needs_background": "light"
     },
     "output_type": "display_data"
    }
   ],
   "source": [
    "three_count = []\n",
    "for n in np.arange(0, 401):\n",
    "    three_count.append(count_ways([1,5,10], 3, n))\n",
    "\n",
    "fractions = [x/y for x , y in zip (three_count, four_count)]\n",
    "\n",
    "plt.scatter(np.arange(0, 401), fractions, s = 2)\n",
    "plt.show()\n",
    "\n",
    "    "
   ]
  },
  {
   "cell_type": "code",
   "execution_count": null,
   "metadata": {},
   "outputs": [],
   "source": []
  }
 ],
 "metadata": {
  "kernelspec": {
   "display_name": "Python 3",
   "language": "python",
   "name": "python3"
  },
  "language_info": {
   "codemirror_mode": {
    "name": "ipython",
    "version": 3
   },
   "file_extension": ".py",
   "mimetype": "text/x-python",
   "name": "python",
   "nbconvert_exporter": "python",
   "pygments_lexer": "ipython3",
   "version": "3.7.3"
  }
 },
 "nbformat": 4,
 "nbformat_minor": 2
}
