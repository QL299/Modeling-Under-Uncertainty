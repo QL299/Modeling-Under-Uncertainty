{
 "cells": [
  {
   "cell_type": "code",
   "execution_count": 1,
   "metadata": {},
   "outputs": [],
   "source": [
    "import numpy as np"
   ]
  },
  {
   "cell_type": "code",
   "execution_count": 6,
   "metadata": {},
   "outputs": [
    {
     "name": "stdout",
     "output_type": "stream",
     "text": [
      "1 5.2872\n",
      "2 7.1124\n",
      "3 7.776\n",
      "4 7.3752\n",
      "5 6.7248\n",
      "6 5.352\n",
      "7 4.0392\n",
      "8 2.352\n",
      "9 0.462\n",
      "10 -1.134\n"
     ]
    }
   ],
   "source": [
    "for n in range (1,11):\n",
    "    l = np.random.poisson(np.log(1+n),10000)\n",
    "    cost = [(12*x -3*n) for x in l]\n",
    "    average = sum(cost)/10000\n",
    "    print(n, average)"
   ]
  }
 ],
 "metadata": {
  "kernelspec": {
   "display_name": "Python 3",
   "language": "python",
   "name": "python3"
  },
  "language_info": {
   "codemirror_mode": {
    "name": "ipython",
    "version": 3
   },
   "file_extension": ".py",
   "mimetype": "text/x-python",
   "name": "python",
   "nbconvert_exporter": "python",
   "pygments_lexer": "ipython3",
   "version": "3.7.3"
  }
 },
 "nbformat": 4,
 "nbformat_minor": 2
}
